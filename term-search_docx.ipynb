{
 "cells": [
  {
   "cell_type": "code",
   "execution_count": null,
   "id": "10223c07",
   "metadata": {},
   "outputs": [],
   "source": [
    "from docx import Document\n",
    "\n",
    "def search_terms_in_docx(docx_path, terms):\n",
    "    # Open the Word document\n",
    "    doc = Document(docx_path)\n",
    "\n",
    "    # Create a dictionary to store the count of each term\n",
    "    term_counts = {term: 0 for term in terms}\n",
    "\n",
    "    # Iterate through each paragraph in the document\n",
    "    for para in doc.paragraphs:\n",
    "        for term in terms:\n",
    "            if term.lower() in para.text.lower():\n",
    "                term_counts[term] += 1\n",
    "\n",
    "    return term_counts\n",
    "\n",
    "# Example usage\n",
    "if __name__ == \"__main__\":\n",
    "    docx_path = 'word_doc_here.docx'\n",
    "    terms = ['Affirmative Action', 'DEI', 'DEIA', 'Diversity & Inclusion', 'Diversity and Inclusion', 'Diversity Equity & Inclusion', 'Diversity Equity and Inclusion', 'Diversity Equity and Inclusion', 'Diversity Equity Inclusion', 'Diversity Inclusion', 'Diversity, Equity & Inclusion', 'Diversity, Equity and Inclusion', 'Diversity, Equity Inclusion', 'Diversity, Equity, & Inclusion', 'Diversity, Equity, and Inclusion', 'Diversity, Equity, Inclusion', 'Equity & Diversity', 'Equity and Diversity', 'Gender Equality', 'Gender Equity', 'IDDP', 'Implicit Bias', 'Inclusion Diversity and Equity', 'Inclusion, Diversity and Equity', 'Inclusion, Diversity, Equity', 'Inclusive Diversity', 'LGBT', 'LGBTQ', 'LGBTQ+', 'LGBTQI', 'LGBTQIA', 'Racial Equality', 'Racial Equity', 'Social Justice', 'STEER', 'STRIDE', 'Unconscious Bias']\n",
    "    counts = search_terms_in_docx(docx_path, terms)\n",
    "    for term, count in counts.items():\n",
    "        print(f\"'{term}' found {count} times in the document.\")\n"
   ]
  },
  {
   "cell_type": "code",
   "execution_count": null,
   "id": "59537421",
   "metadata": {},
   "outputs": [],
   "source": []
  }
 ],
 "metadata": {
  "kernelspec": {
   "display_name": "Python 3 (ipykernel)",
   "language": "python",
   "name": "python3"
  },
  "language_info": {
   "codemirror_mode": {
    "name": "ipython",
    "version": 3
   },
   "file_extension": ".py",
   "mimetype": "text/x-python",
   "name": "python",
   "nbconvert_exporter": "python",
   "pygments_lexer": "ipython3",
   "version": "3.10.9"
  }
 },
 "nbformat": 4,
 "nbformat_minor": 5
}

{
 "cells": [
  {
   "cell_type": "code",
   "execution_count": null,
   "id": "dc984a49",
   "metadata": {},
   "outputs": [],
   "source": [
    "import requests\n",
    "from bs4 import BeautifulSoup\n",
    "from urllib.parse import urljoin, urlparse\n",
    "import re"
   ]
  },
  {
   "cell_type": "code",
   "execution_count": null,
   "id": "7207f87d",
   "metadata": {},
   "outputs": [],
   "source": [
    "# Function to scrape a webpage and check for search terms\n",
    "def scrape_page(url, search_terms):\n",
    "    try:\n",
    "        response = requests.get(url)\n",
    "        response.raise_for_status()  # Check if the request was successful\n",
    "        \n",
    "        # Verify the content type is HTML\n",
    "        if 'text/html' not in response.headers.get('Content-Type', ''):\n",
    "            print(f\"Skipping non-HTML content at: {url}\")\n",
    "            return {term: False for term in search_terms}\n",
    "        \n",
    "        soup = BeautifulSoup(response.text, 'html.parser')\n",
    "        page_text = soup.get_text().lower()\n",
    "        \n",
    "        matches = {term: bool(re.search(re.escape(term.lower()), page_text)) for term in search_terms}\n",
    "        return matches\n",
    "    except requests.exceptions.RequestException as e:\n",
    "        print(f\"Error fetching {url}: {e}\")\n",
    "        return {term: False for term in search_terms}"
   ]
  },
  {
   "cell_type": "code",
   "execution_count": null,
   "id": "680dca87",
   "metadata": {},
   "outputs": [],
   "source": [
    "# Function to get all URLs from a webpage\n",
    "def get_all_urls(url, domain):\n",
    "    response = requests.get(url)\n",
    "    soup = BeautifulSoup(response.text, 'html.parser')\n",
    "    urls = set()\n",
    "    \n",
    "    # List of file extensions to exclude\n",
    "    exclude_extensions = ['.pdf', '.docx', '.xlsx', '.csv', '.jpg', '.jpeg', '.png', '.gif', '.zip', '.rar']\n",
    "    \n",
    "    for link in soup.find_all('a', href=True):\n",
    "        full_url = urljoin(url, link['href'])\n",
    "        if urlparse(full_url).netloc == domain:\n",
    "            if not any(full_url.endswith(ext) for ext in exclude_extensions):\n",
    "                urls.add(full_url)\n",
    "    \n",
    "    return urls"
   ]
  },
  {
   "cell_type": "code",
   "execution_count": null,
   "id": "cddbe77b",
   "metadata": {},
   "outputs": [],
   "source": [
    "# Main function to scrape the whole domain\n",
    "def scrape_website(domain, search_terms):\n",
    "    visited_urls = set()\n",
    "    urls_to_visit = set([domain])\n",
    "    results = {}\n",
    "    \n",
    "    while urls_to_visit:\n",
    "        current_url = urls_to_visit.pop()\n",
    "        print(f\"Visiting: {current_url}\")  # Print URL being visited\n",
    "        if current_url not in visited_urls:\n",
    "            visited_urls.add(current_url)\n",
    "            results[current_url] = scrape_page(current_url, search_terms)\n",
    "            urls_to_visit.update(get_all_urls(current_url, urlparse(domain).netloc))\n",
    "    \n",
    "    return results"
   ]
  },
  {
   "cell_type": "code",
   "execution_count": null,
   "id": "8147ccf4",
   "metadata": {},
   "outputs": [],
   "source": [
    "# Usage\n",
    "if __name__ == \"__main__\":\n",
    "    domain = \"https://ohss.dhs.gov/\"\n",
    "    search_terms = ['Affirmative Action', 'DEI', 'DEIA', 'Diversity & Inclusion', 'Diversity and Inclusion', 'Diversity Equity & Inclusion', 'Diversity Equity and Inclusion', 'Diversity Equity and Inclusion', 'Diversity Equity Inclusion', 'Diversity Inclusion', 'Diversity, Equity & Inclusion', 'Diversity, Equity and Inclusion', 'Diversity, Equity Inclusion', 'Diversity, Equity, & Inclusion', 'Diversity, Equity, and Inclusion', 'Diversity, Equity, Inclusion', 'Equity & Diversity', 'Equity and Diversity', 'Gender Equality', 'Gender Equity', 'IDDP', 'Implicit Bias', 'Inclusion Diversity and Equity', 'Inclusion, Diversity and Equity', 'Inclusion, Diversity, Equity', 'Inclusive Diversity', 'LGBT', 'LGBTQ', 'LGBTQ+', 'LGBTQI', 'LGBTQIA', 'Racial Equality', 'Racial Equity', 'Social Justice', 'STEER', 'STRIDE', 'Unconscious Bias']\n",
    "    results = scrape_website(domain, search_terms)\n",
    "    \n",
    "    for url, matches in results.items():\n",
    "        print(f\"URL: {url}\")\n",
    "        for term, found in matches.items():\n",
    "            print(f\"  {term}: {'Present' if found else 'Not Found'}\")"
   ]
  }
 ],
 "metadata": {
  "kernelspec": {
   "display_name": "Python 3 (ipykernel)",
   "language": "python",
   "name": "python3"
  },
  "language_info": {
   "codemirror_mode": {
    "name": "ipython",
    "version": 3
   },
   "file_extension": ".py",
   "mimetype": "text/x-python",
   "name": "python",
   "nbconvert_exporter": "python",
   "pygments_lexer": "ipython3",
   "version": "3.10.9"
  }
 },
 "nbformat": 4,
 "nbformat_minor": 5
}
